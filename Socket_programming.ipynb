{
  "cells": [
    {
      "cell_type": "markdown",
      "metadata": {
        "id": "view-in-github",
        "colab_type": "text"
      },
      "source": [
        "<a href=\"https://colab.research.google.com/github/Charl35X/CSC411-Mini-Project/blob/New-branch/Socket_programming.ipynb\" target=\"_parent\"><img src=\"https://colab.research.google.com/assets/colab-badge.svg\" alt=\"Open In Colab\"/></a>"
      ]
    },
    {
      "cell_type": "code",
      "source": [
        "import socket\n"
      ],
      "metadata": {
        "id": "dH5ztu3ndJ5b"
      },
      "execution_count": 7,
      "outputs": []
    },
    {
      "cell_type": "code",
      "source": [
        "# Create a server socket\n",
        "server_socket = socket.socket(socket.AF_INET, socket.SOCK_STREAM)\n"
      ],
      "metadata": {
        "id": "yIW2wUkZimZz"
      },
      "execution_count": 8,
      "outputs": []
    },
    {
      "cell_type": "code",
      "source": [
        "\n",
        "\n",
        "# Bind the server socket to a specific address and port\n",
        "server_address = ('localhost', 7680)\n",
        "server_socket.bind(server_address)\n"
      ],
      "metadata": {
        "id": "W9T-MzBAiyuB"
      },
      "execution_count": 10,
      "outputs": []
    },
    {
      "cell_type": "code",
      "source": [
        "\n",
        "# Listen for incoming connections\n",
        "server_socket.listen(1)\n",
        "\n"
      ],
      "metadata": {
        "id": "s4cjXR1ji4qC"
      },
      "execution_count": null,
      "outputs": []
    },
    {
      "cell_type": "code",
      "source": [
        "# Accept a connection from the client\n",
        "client_socket, client_address = server_socket.accept()\n",
        "\n"
      ],
      "metadata": {
        "id": "XiCdXcnKi_Ua"
      },
      "execution_count": null,
      "outputs": []
    },
    {
      "cell_type": "code",
      "source": [
        "# Receive and process data from the client\n",
        "while True:\n",
        "    data = client_socket.recv(1024).decode()\n",
        "    if not data:\n",
        "        break\n",
        "    print(\"Received data:\", data)\n",
        "\n"
      ],
      "metadata": {
        "id": "lm1YET7HjCez"
      },
      "execution_count": null,
      "outputs": []
    },
    {
      "cell_type": "code",
      "source": [
        "# Close the client and server sockets\n",
        "client_socket.close()\n",
        "server_socket.close()"
      ],
      "metadata": {
        "id": "38q9QojTjFfQ"
      },
      "execution_count": null,
      "outputs": []
    }
  ],
  "metadata": {
    "colab": {
      "provenance": [],
      "authorship_tag": "ABX9TyM+dxv37qKzE9X1+rPYKWOH",
      "include_colab_link": true
    },
    "kernelspec": {
      "display_name": "Python 3",
      "name": "python3"
    },
    "language_info": {
      "name": "python"
    }
  },
  "nbformat": 4,
  "nbformat_minor": 0
}