{
  "nbformat": 4,
  "nbformat_minor": 0,
  "metadata": {
    "colab": {
      "provenance": [],
      "authorship_tag": "ABX9TyPPtI+gbdLp8xDIzIzvvqmB",
      "include_colab_link": true
    },
    "kernelspec": {
      "name": "python3",
      "display_name": "Python 3"
    },
    "language_info": {
      "name": "python"
    }
  },
  "cells": [
    {
      "cell_type": "markdown",
      "metadata": {
        "id": "view-in-github",
        "colab_type": "text"
      },
      "source": [
        "<a href=\"https://colab.research.google.com/github/Charl35X/CSC411-Mini-Project/blob/New-branch/Socket_programming.ipynb\" target=\"_parent\"><img src=\"https://colab.research.google.com/assets/colab-badge.svg\" alt=\"Open In Colab\"/></a>"
      ]
    },
    {
      "cell_type": "code",
      "source": [
        "import socket\n",
        "\n",
        "# Create a server socket\n",
        "server_socket = socket.socket(socket.AF_INET, socket.SOCK_STREAM)\n",
        "\n",
        "# Bind the server socket to a specific address and port\n",
        "server_address = ('localhost', 52987)\n",
        "server_socket.bind(server_address)\n",
        "\n",
        "# Listen for incoming connections\n",
        "server_socket.listen(1)\n",
        "\n",
        "# Accept a connection from the client\n",
        "client_socket, client_address = server_socket.accept()\n",
        "\n",
        "# Receive and process data from the client\n",
        "while True:\n",
        "    data = client_socket.recv(1024).decode()\n",
        "    if not data:\n",
        "        break\n",
        "    print(\"Received data:\", data)\n",
        "\n",
        "# Close the client and server sockets\n",
        "client_socket.close()\n",
        "server_socket.close()\n"
      ],
      "metadata": {
        "id": "Qv7vCXD02LWq"
      },
      "execution_count": null,
      "outputs": []
    },
    {
      "cell_type": "code",
      "source": [
        "import socket\n",
        "import random\n",
        "\n",
        "# Create a client socket\n",
        "client_socket = socket.socket(socket.AF_INET, socket.SOCK_STREAM)\n",
        "\n",
        "# Connect to the server\n",
        "server_address = ('localhost', 52987)\n",
        "client_socket.connect(server_address)\n",
        "\n",
        "# Generate and send data to the server\n",
        "for i in range(1, 11):\n",
        "    data = str(random.randint(1, 100))\n",
        "    client_socket.send(data.encode())\n",
        "\n",
        "# Close the client socket\n",
        "client_socket.close()\n"
      ],
      "metadata": {
        "id": "-l9BOcRj8pnf"
      },
      "execution_count": null,
      "outputs": []
    }
  ]
}