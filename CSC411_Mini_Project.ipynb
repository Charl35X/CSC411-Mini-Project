{
  "nbformat": 4,
  "nbformat_minor": 0,
  "metadata": {
    "colab": {
      "provenance": [],
      "authorship_tag": "ABX9TyMn/2fCGFwaCGoK9XR+T9Sv",
      "include_colab_link": true
    },
    "kernelspec": {
      "name": "python3",
      "display_name": "Python 3"
    },
    "language_info": {
      "name": "python"
    }
  },
  "cells": [
    {
      "cell_type": "markdown",
      "metadata": {
        "id": "view-in-github",
        "colab_type": "text"
      },
      "source": [
        "<a href=\"https://colab.research.google.com/github/Charl35X/CSC421_Mini-Project/blob/main/CSC411_Mini_Project.ipynb\" target=\"_parent\"><img src=\"https://colab.research.google.com/assets/colab-badge.svg\" alt=\"Open In Colab\"/></a>"
      ]
    },
    {
      "cell_type": "code",
      "execution_count": null,
      "metadata": {
        "id": "7uevjJn3XO5E"
      },
      "outputs": [],
      "source": [
        "import random\n",
        "import string\n",
        "import xml.etree.ElementTree as ET\n",
        "import threading\n",
        "import queue\n",
        "import time\n",
        "import os\n",
        "\n",
        "class ITStudent:\n",
        "    \"\"\"Class to generate random student data\"\"\"\n",
        "    def __init__(self):\n",
        "        self.name = ''.join(random.choices(string.ascii_uppercase + string.ascii_lowercase, k=10))\n",
        "        self.id = ''.join(random.choices(string.digits, k=8))\n",
        "        self.programme = 'IT'\n",
        "        self.courses = {f'course{i}': random.randint(0, 100) for i in range(1, 6)}\n",
        "\n",
        "class Producer(threading.Thread):\n",
        "    \"\"\"Thread to produce student data, convert it to XML, and add it to a shared buffer\"\"\"\n",
        "    def __init__(self, buffer, empty_semaphore, full_semaphore):\n",
        "        threading.Thread.__init__(self)\n",
        "        self.buffer = buffer\n",
        "        self.empty_semaphore = empty_semaphore\n",
        "        self.full_semaphore = full_semaphore\n",
        "\n",
        "    def run(self):\n",
        "        for i in range(1, 11):\n",
        "            try:\n",
        "                student = ITStudent()\n",
        "                # Convert student data to XML and save it to a file\n",
        "                root = ET.Element(\"ITStudent\")\n",
        "                ET.SubElement(root, \"name\").text = student.name\n",
        "                ET.SubElement(root, \"id\").text = student.id\n",
        "                ET.SubElement(root, \"programme\").text = student.programme\n",
        "                courses = ET.SubElement(root, \"courses\")\n",
        "                for course, mark in student.courses.items():\n",
        "                    course_element = ET.SubElement(courses, \"course\")\n",
        "                    ET.SubElement(course_element, \"name\").text = course\n",
        "                    ET.SubElement(course_element, \"mark\").text = str(mark)\n",
        "                tree = ET.ElementTree(root)\n",
        "                tree.write(f\"student{i}.xml\")\n",
        "                # Add the file number to the buffer\n",
        "                self.empty_semaphore.acquire()  # Wait if buffer is full\n",
        "                self.buffer.put(i)\n",
        "                self.full_semaphore.release()  # Signal that buffer is not empty\n",
        "                time.sleep(random.randint(1, 5))\n",
        "            except Exception as e:\n",
        "                print(f\"An error occurred in the producer: {e}\")\n"
      ]
    },
    {
      "cell_type": "code",
      "source": [],
      "metadata": {
        "id": "4wOVn44_XcMr"
      },
      "execution_count": null,
      "outputs": []
    }
  ]
}