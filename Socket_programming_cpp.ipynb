{
  "cells": [
    {
      "cell_type": "markdown",
      "metadata": {
        "id": "view-in-github",
        "colab_type": "text"
      },
      "source": [
        "<a href=\"https://colab.research.google.com/github/Charl35X/CSC411-Mini-Project/blob/New-branch/Socket_programming_cpp.ipynb\" target=\"_parent\"><img src=\"https://colab.research.google.com/assets/colab-badge.svg\" alt=\"Open In Colab\"/></a>"
      ]
    },
    {
      "cell_type": "code",
      "source": [
        "#include <iostream>\n",
        "#include <sys/socket.h>\n",
        "#include <netinet/in.h>\n",
        "#include <arpa/inet.h>\n",
        "#include <unistd.h>"
      ],
      "metadata": {
        "id": "-KQknzOkXMD6"
      },
      "execution_count": 2,
      "outputs": []
    },
    {
      "cell_type": "code",
      "source": [
        "\n",
        "int main() {\n",
        "    // Create a server socket\n",
        "    int server_socket = socket(AF_INET, SOCK_STREAM, 0);\n",
        "\n",
        "    // Bind the server socket to a specific address and port\n",
        "    struct sockaddr_in server_address;\n",
        "    server_address.sin_family = AF_INET;\n",
        "    server_address.sin_addr.s_addr = INADDR_ANY;\n",
        "    server_address.sin_port = htons(27017);\n",
        "    bind(server_socket, (struct sockaddr*)&server_address, sizeof(server_address));\n",
        "\n",
        "    // Listen for incoming connections\n",
        "    listen(server_socket, 1);\n",
        "\n",
        "    // Accept a connection from the client\n",
        "    struct sockaddr_in client_address;\n",
        "    socklen_t client_address_length = sizeof(client_address);\n",
        "    int client_socket = accept(server_socket, (struct sockaddr*)&client_address, &client_address_length);\n",
        "\n",
        "    // Receive and process data from the client\n",
        "    char buffer[1024];\n",
        "    while (true) {\n",
        "        ssize_t bytes_received = recv(client_socket, buffer, sizeof(buffer), 0);\n",
        "        if (bytes_received <= 0) {\n",
        "            break;\n",
        "        }\n",
        "        std::string data(buffer, bytes_received);\n",
        "        std::cout << \"Received data: \" << data << std::endl;\n",
        "    }\n",
        "\n",
        "    // Close the client and server sockets\n",
        "    close(client_socket);\n",
        "    close(server_socket);\n",
        "\n",
        "    return 0;\n",
        "}\n"
      ],
      "metadata": {
        "colab": {
          "base_uri": "https://localhost:8080/",
          "height": 130
        },
        "id": "Bn6QKXg6XZZu",
        "outputId": "245a22c7-50cd-4a4c-dacd-351218dd75b3"
      },
      "execution_count": 4,
      "outputs": [
        {
          "output_type": "error",
          "ename": "SyntaxError",
          "evalue": "ignored",
          "traceback": [
            "\u001b[0;36m  File \u001b[0;32m\"<ipython-input-4-016fbd5e8085>\"\u001b[0;36m, line \u001b[0;32m1\u001b[0m\n\u001b[0;31m    int main() {\u001b[0m\n\u001b[0m        ^\u001b[0m\n\u001b[0;31mSyntaxError\u001b[0m\u001b[0;31m:\u001b[0m invalid syntax\n"
          ]
        }
      ]
    }
  ],
  "metadata": {
    "colab": {
      "provenance": [],
      "authorship_tag": "ABX9TyPwowzwViin3F/YSYWXerpO",
      "include_colab_link": true
    },
    "kernelspec": {
      "display_name": "Python 3",
      "name": "python3"
    },
    "language_info": {
      "name": "python"
    }
  },
  "nbformat": 4,
  "nbformat_minor": 0
}